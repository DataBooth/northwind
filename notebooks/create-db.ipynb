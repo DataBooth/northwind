{
 "cells": [
  {
   "cell_type": "code",
   "execution_count": 1,
   "metadata": {},
   "outputs": [],
   "source": [
    "import duckdb\n",
    "import pandas"
   ]
  },
  {
   "cell_type": "code",
   "execution_count": 2,
   "metadata": {},
   "outputs": [],
   "source": [
    "# Connect to DuckDB (in-memory)\n",
    "con = duckdb.connect(database='../data/northwind.ddb')"
   ]
  },
  {
   "cell_type": "code",
   "execution_count": 3,
   "metadata": {},
   "outputs": [
    {
     "data": {
      "text/plain": [
       "<duckdb.duckdb.DuckDBPyConnection at 0x108808df0>"
      ]
     },
     "execution_count": 3,
     "metadata": {},
     "output_type": "execute_result"
    }
   ],
   "source": [
    "# SQL script for creating tables\n",
    "\n",
    "sql_script = \"\"\"\n",
    "DROP TABLE IF EXISTS OrderDetails;\n",
    "DROP TABLE IF EXISTS Orders;\n",
    "DROP TABLE IF EXISTS Products;\n",
    "DROP TABLE IF EXISTS Categories;\n",
    "DROP TABLE IF EXISTS Customers;\n",
    "DROP TABLE IF EXISTS Employees;\n",
    "DROP TABLE IF EXISTS Shippers;\n",
    "DROP TABLE IF EXISTS Suppliers;\n",
    "\n",
    "CREATE TABLE Categories (\n",
    "    CategoryID INTEGER PRIMARY KEY,\n",
    "    CategoryName TEXT,\n",
    "    Description TEXT\n",
    ");\n",
    "\n",
    "CREATE TABLE Customers (\n",
    "    CustomerID INTEGER PRIMARY KEY,\n",
    "    CustomerName TEXT,\n",
    "    ContactName TEXT,\n",
    "    Address TEXT,\n",
    "    City TEXT,\n",
    "    PostalCode TEXT,\n",
    "    Country TEXT\n",
    ");\n",
    "\n",
    "CREATE TABLE Employees (\n",
    "    EmployeeID INTEGER PRIMARY KEY,\n",
    "    LastName TEXT,\n",
    "    FirstName TEXT,\n",
    "    BirthDate DATE,\n",
    "    Photo TEXT,\n",
    "    Notes TEXT\n",
    ");\n",
    "\n",
    "CREATE TABLE Shippers(\n",
    "    ShipperID INTEGER PRIMARY KEY,\n",
    "    ShipperName TEXT,\n",
    "    Phone TEXT\n",
    ");\n",
    "\n",
    "CREATE TABLE Suppliers(\n",
    "    SupplierID INTEGER PRIMARY KEY,\n",
    "    SupplierName TEXT,\n",
    "    ContactName TEXT,\n",
    "    Address TEXT,\n",
    "    City TEXT,\n",
    "    PostalCode TEXT,\n",
    "    Country TEXT,\n",
    "    Phone TEXT\n",
    ");\n",
    "\n",
    "CREATE TABLE Products(\n",
    "    ProductID INTEGER PRIMARY KEY,\n",
    "    ProductName TEXT,\n",
    "    SupplierID INTEGER,\n",
    "    CategoryID INTEGER,\n",
    "    Unit TEXT,\n",
    "    Price NUMERIC DEFAULT 0,\n",
    "    FOREIGN KEY (CategoryID) REFERENCES Categories (CategoryID),\n",
    "    FOREIGN KEY (SupplierID) REFERENCES Suppliers (SupplierID)\n",
    ");\n",
    "\n",
    "CREATE TABLE Orders(\n",
    "    OrderID INTEGER PRIMARY KEY,\n",
    "    CustomerID INTEGER,\n",
    "    EmployeeID INTEGER,\n",
    "    OrderDate DATETIME,\n",
    "    ShipperID INTEGER,\n",
    "    FOREIGN KEY (EmployeeID) REFERENCES Employees (EmployeeID),\n",
    "    FOREIGN KEY (CustomerID) REFERENCES Customers (CustomerID),\n",
    "    FOREIGN KEY (ShipperID) REFERENCES Shippers (ShipperID)\n",
    ");\n",
    "\n",
    "CREATE TABLE OrderDetails(\n",
    "    OrderDetailID INTEGER PRIMARY KEY,\n",
    "    OrderID INTEGER,\n",
    "    ProductID INTEGER,\n",
    "    Quantity INTEGER,\n",
    "    FOREIGN KEY (OrderID) REFERENCES Orders (OrderID),\n",
    "    FOREIGN KEY (ProductID) REFERENCES Products (ProductID)\n",
    ");\n",
    "\"\"\"\n",
    "\n",
    "# Execute the SQL script\n",
    "con.execute(sql_script)"
   ]
  },
  {
   "cell_type": "code",
   "execution_count": 4,
   "metadata": {},
   "outputs": [
    {
     "name": "stdout",
     "output_type": "stream",
     "text": [
      "Tables created:            name\n",
      "0    Categories\n",
      "1     Customers\n",
      "2     Employees\n",
      "3  OrderDetails\n",
      "4        Orders\n",
      "5      Products\n",
      "6      Shippers\n",
      "7     Suppliers\n"
     ]
    }
   ],
   "source": [
    "# Verify table creation by listing tables\n",
    "tables = con.execute(\"SHOW TABLES\").df()\n",
    "print(\"Tables created:\", tables)"
   ]
  },
  {
   "cell_type": "code",
   "execution_count": 5,
   "metadata": {},
   "outputs": [],
   "source": [
    "# Read the SQL file\n",
    "with open(\"../sql/insert-data.sql\", 'r') as sql_file:\n",
    "    insert_sql = sql_file.read()"
   ]
  },
  {
   "cell_type": "code",
   "execution_count": 7,
   "metadata": {},
   "outputs": [
    {
     "data": {
      "text/plain": [
       "<duckdb.duckdb.DuckDBPyConnection at 0x108808df0>"
      ]
     },
     "execution_count": 7,
     "metadata": {},
     "output_type": "execute_result"
    }
   ],
   "source": [
    "con.execute(insert_sql)"
   ]
  },
  {
   "cell_type": "code",
   "execution_count": 8,
   "metadata": {},
   "outputs": [
    {
     "data": {
      "text/plain": [
       "┌────────────┬────────────────┬────────────────────────────────────────────────────────────┐\n",
       "│ CategoryID │  CategoryName  │                        Description                         │\n",
       "│   int32    │    varchar     │                          varchar                           │\n",
       "├────────────┼────────────────┼────────────────────────────────────────────────────────────┤\n",
       "│          1 │ Beverages      │ Soft drinks, coffees, teas, beers, and ales                │\n",
       "│          2 │ Condiments     │ Sweet and savory sauces, relishes, spreads, and seasonings │\n",
       "│          3 │ Confections    │ Desserts, candies, and sweet breads                        │\n",
       "│          4 │ Dairy Products │ Cheeses                                                    │\n",
       "│          5 │ Grains/Cereals │ Breads, crackers, pasta, and cereal                        │\n",
       "│          6 │ Meat/Poultry   │ Prepared meats                                             │\n",
       "│          7 │ Produce        │ Dried fruit and bean curd                                  │\n",
       "│          8 │ Seafood        │ Seaweed and fish                                           │\n",
       "└────────────┴────────────────┴────────────────────────────────────────────────────────────┘"
      ]
     },
     "execution_count": 8,
     "metadata": {},
     "output_type": "execute_result"
    }
   ],
   "source": [
    "con.sql(\"SELECT * FROM Categories\")"
   ]
  },
  {
   "cell_type": "code",
   "execution_count": 9,
   "metadata": {},
   "outputs": [
    {
     "data": {
      "text/plain": [
       "┌────────────┬────────────────────────────────────┬────────────────────┬───────────────────────────────┬─────────────┬────────────┬─────────┐\n",
       "│ CustomerID │            CustomerName            │    ContactName     │            Address            │    City     │ PostalCode │ Country │\n",
       "│   int32    │              varchar               │      varchar       │            varchar            │   varchar   │  varchar   │ varchar │\n",
       "├────────────┼────────────────────────────────────┼────────────────────┼───────────────────────────────┼─────────────┼────────────┼─────────┤\n",
       "│          1 │ Alfreds Futterkiste                │ Maria Anders       │ Obere Str. 57                 │ Berlin      │ 12209      │ Germany │\n",
       "│          2 │ Ana Trujillo Emparedados y helados │ Ana Trujillo       │ Avda. de la Constitución 2222 │ México D.F. │ 5021       │ Mexico  │\n",
       "│          3 │ Antonio Moreno Taquería            │ Antonio Moreno     │ Mataderos 2312                │ México D.F. │ 5023       │ Mexico  │\n",
       "│          4 │ Around the Horn                    │ Thomas Hardy       │ 120 Hanover Sq.               │ London      │ WA1 1DP    │ UK      │\n",
       "│          5 │ Berglunds snabbköp                 │ Christina Berglund │ Berguvsvägen 8                │ Luleå       │ S-958 22   │ Sweden  │\n",
       "│          6 │ Blauer See Delikatessen            │ Hanna Moos         │ Forsterstr. 57                │ Mannheim    │ 68306      │ Germany │\n",
       "│          7 │ Blondel père et fils               │ Frédérique Citeaux │ 24, place Kléber              │ Strasbourg  │ 67000      │ France  │\n",
       "│          8 │ Bólido Comidas preparadas          │ Martín Sommer      │ C/ Araquil, 67                │ Madrid      │ 28023      │ Spain   │\n",
       "│          9 │ Bon app''                          │ Laurence Lebihans  │ 12, rue des Bouchers          │ Marseille   │ 13008      │ France  │\n",
       "│         10 │ Bottom-Dollar Marketse             │ Elizabeth Lincoln  │ 23 Tsawassen Blvd.            │ Tsawassen   │ T2F 8M4    │ Canada  │\n",
       "│          · │           ·                        │       ·            │         ·                     │    ·        │   ·        │  ·      │\n",
       "│          · │           ·                        │       ·            │         ·                     │    ·        │   ·        │  ·      │\n",
       "│          · │           ·                        │       ·            │         ·                     │    ·        │   ·        │  ·      │\n",
       "│         82 │ Trail''s Head Gourmet Provisioners │ Helvetius Nagy     │ 722 DaVinci Blvd.             │ Kirkland    │ 98034      │ USA     │\n",
       "│         83 │ Vaffeljernet                       │ Palle Ibsen        │ Smagsløget 45                 │ Århus       │ 8200       │ Denmark │\n",
       "│         84 │ Victuailles en stock               │ Mary Saveley       │ 2, rue du Commerce            │ Lyon        │ 69004      │ France  │\n",
       "│         85 │ Vins et alcools Chevalier          │ Paul Henriot       │ 59 rue de l''Abbaye           │ Reims       │ 51100      │ France  │\n",
       "│         86 │ Die Wandernde Kuh                  │ Rita Müller        │ Adenauerallee 900             │ Stuttgart   │ 70563      │ Germany │\n",
       "│         87 │ Wartian Herkku                     │ Pirkko Koskitalo   │ Torikatu 38                   │ Oulu        │ 90110      │ Finland │\n",
       "│         88 │ Wellington Importadora             │ Paula Parente      │ Rua do Mercado, 12            │ Resende     │ 08737-363  │ Brazil  │\n",
       "│         89 │ White Clover Markets               │ Karl Jablonski     │ 305 - 14th Ave. S. Suite 3B   │ Seattle     │ 98128      │ USA     │\n",
       "│         90 │ Wilman Kala                        │ Matti Karttunen    │ Keskuskatu 45                 │ Helsinki    │ 21240      │ Finland │\n",
       "│         91 │ Wolski                             │ Zbyszek            │ ul. Filtrowa 68               │ Walla       │ 01-012     │ Poland  │\n",
       "├────────────┴────────────────────────────────────┴────────────────────┴───────────────────────────────┴─────────────┴────────────┴─────────┤\n",
       "│ 91 rows (20 shown)                                                                                                              7 columns │\n",
       "└───────────────────────────────────────────────────────────────────────────────────────────────────────────────────────────────────────────┘"
      ]
     },
     "execution_count": 9,
     "metadata": {},
     "output_type": "execute_result"
    }
   ],
   "source": [
    "con.sql(\"SELECT * FROM Customers\")"
   ]
  },
  {
   "cell_type": "code",
   "execution_count": 1,
   "metadata": {},
   "outputs": [],
   "source": [
    "# TODO: Maybe check against public instance of data (in Postgres?)"
   ]
  },
  {
   "cell_type": "markdown",
   "metadata": {},
   "source": [
    "Based on the search results, there are several options for obtaining a PostgreSQL version of the Northwind database that you could use to reconcile against your DuckDB version:\n",
    "\n",
    "1. GitHub repository: There's a GitHub repository by pthom called \"northwind_psql\" that provides a SQL script to populate a PostgreSQL database with the Northwind example[1]. You could use this script to create a PostgreSQL instance of Northwind.\n",
    "\n",
    "2. Dataquest tutorial: Dataquest has a tutorial on installing PostgreSQL and importing the Northwind database[2]. They provide steps to download the Northwind SQL file and import it into a PostgreSQL database.\n",
    "\n",
    "3. Alaska Software documentation: This source provides instructions on creating a Northwind database in PostgreSQL, including creating an empty database and then filling it with data using an SQL script[3].\n",
    "\n",
    "4. Wikiversity: There's a Wikiversity page that provides SQL statements to create the Northwind database schema and insert data for PostgreSQL[4]. You could use these statements to set up a PostgreSQL version of Northwind.\n",
    "\n",
    "To reconcile your DuckDB version against a PostgreSQL instance, you could:\n",
    "\n",
    "1. Set up one of these PostgreSQL versions of Northwind.\n",
    "2. Compare the table structures and data between your DuckDB version and the PostgreSQL version.\n",
    "3. Run identical queries on both databases and compare the results to ensure consistency.\n",
    "\n",
    "Remember that there might be slight variations between different versions of the Northwind database, so you may need to account for minor differences in schema or data.\n",
    "\n",
    "Citations:\n",
    "[1] https://github.com/pthom/northwind_psql\n",
    "[2] https://www.dataquest.io/blog/install-postgresql-14-7-on-windows-10/\n",
    "[3] https://doc.alaska-software.com/content/pgdbe_h2_the_northwind_example_database.cxp\n",
    "[4] https://en.wikiversity.org/wiki/Database_Examples/Northwind/PostgreSQL\n",
    "[5] https://www.youtube.com/watch?v=xW8_6UrF13U\n",
    "[6] https://docs.yugabyte.com/preview/sample-data/northwind/\n",
    "[7] https://github.com/sealbro/northwind\n",
    "[8] https://duckdb.net/docs/basic-usage.html"
   ]
  },
  {
   "cell_type": "markdown",
   "metadata": {},
   "source": []
  }
 ],
 "metadata": {
  "kernelspec": {
   "display_name": ".venv",
   "language": "python",
   "name": "python3"
  },
  "language_info": {
   "codemirror_mode": {
    "name": "ipython",
    "version": 3
   },
   "file_extension": ".py",
   "mimetype": "text/x-python",
   "name": "python",
   "nbconvert_exporter": "python",
   "pygments_lexer": "ipython3",
   "version": "3.11.10"
  }
 },
 "nbformat": 4,
 "nbformat_minor": 2
}
